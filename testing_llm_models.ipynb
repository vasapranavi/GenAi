{
 "cells": [
  {
   "cell_type": "markdown",
   "id": "f8bb1503-d3d5-4c94-adbb-cea2cbd27c70",
   "metadata": {},
   "source": [
    "# Local LLM Battle: Analyzing Bank Account offerings with Ollama"
   ]
  },
  {
   "cell_type": "markdown",
   "id": "4fab29b5-5fb4-4074-9062-399d8c14388b",
   "metadata": {},
   "source": [
    "## Importing necessary packages"
   ]
  },
  {
   "cell_type": "code",
   "execution_count": 1,
   "id": "5f0895df-f42b-4d68-8127-d64aa8c29d35",
   "metadata": {},
   "outputs": [
    {
     "name": "stderr",
     "output_type": "stream",
     "text": [
      "c:\\users\\pranavi\\appdata\\local\\programs\\python\\python39\\lib\\site-packages\\numpy\\_distributor_init.py:30: UserWarning: loaded more than 1 DLL from .libs:\n",
      "c:\\users\\pranavi\\appdata\\local\\programs\\python\\python39\\lib\\site-packages\\numpy\\.libs\\libopenblas.WCDJNK7YVMPZQ2ME2ZZHJJRJ3JIKNDB7.gfortran-win_amd64.dll\n",
      "c:\\users\\pranavi\\appdata\\local\\programs\\python\\python39\\lib\\site-packages\\numpy\\.libs\\libopenblas.XWYDX2IKJW2NMTWSFYNGFUWKQU3LYTCZ.gfortran-win_amd64.dll\n",
      "  warnings.warn(\"loaded more than 1 DLL from .libs:\"\n"
     ]
    }
   ],
   "source": [
    "import ollama\n",
    "import pandas as pd\n",
    "import time"
   ]
  },
  {
   "cell_type": "markdown",
   "id": "303562f0-52f1-4548-8b75-4aab0cdc06fd",
   "metadata": {},
   "source": [
    "## Input"
   ]
  },
  {
   "cell_type": "code",
   "execution_count": 2,
   "id": "3156bcab-48d5-4b46-870f-9d35121fb895",
   "metadata": {},
   "outputs": [
    {
     "name": "stdout",
     "output_type": "stream",
     "text": [
      "                                                 url  \\\n",
      "0  https://www.santander.co.uk/personal/current-a...   \n",
      "1  https://www.santander.co.uk/personal/current-a...   \n",
      "2  https://www.santander.co.uk/personal/current-a...   \n",
      "3  https://www.santander.co.uk/personal/current-a...   \n",
      "4  https://www.santander.co.uk/personal/current-a...   \n",
      "5  https://www.santander.co.uk/personal/current-a...   \n",
      "\n",
      "                                             content  \n",
      "0  Santander Edge Up current account | Santander ...  \n",
      "1  Santander Edge current accounts | Santander UK...  \n",
      "2  Everyday current account | No fee account | Sa...  \n",
      "3  Santander Edge Student current account | Santa...  \n",
      "4  123 Mini current account | Kids bank account |...  \n",
      "5  Basic current account | Open a basic account |...  \n"
     ]
    }
   ],
   "source": [
    "%run extracting_pages.py"
   ]
  },
  {
   "cell_type": "code",
   "execution_count": 3,
   "id": "585a99bd-9b80-450b-8fe8-953aacd5948a",
   "metadata": {},
   "outputs": [],
   "source": [
    "docs = pd.read_csv(\"current_accounts.csv\")"
   ]
  },
  {
   "cell_type": "code",
   "execution_count": 4,
   "id": "8b86c0e3-bd6f-4929-9bfb-48b2ad3f64bc",
   "metadata": {},
   "outputs": [
    {
     "data": {
      "text/html": [
       "<div>\n",
       "<style scoped>\n",
       "    .dataframe tbody tr th:only-of-type {\n",
       "        vertical-align: middle;\n",
       "    }\n",
       "\n",
       "    .dataframe tbody tr th {\n",
       "        vertical-align: top;\n",
       "    }\n",
       "\n",
       "    .dataframe thead th {\n",
       "        text-align: right;\n",
       "    }\n",
       "</style>\n",
       "<table border=\"1\" class=\"dataframe\">\n",
       "  <thead>\n",
       "    <tr style=\"text-align: right;\">\n",
       "      <th></th>\n",
       "      <th>Unnamed: 0</th>\n",
       "      <th>url</th>\n",
       "      <th>content</th>\n",
       "    </tr>\n",
       "  </thead>\n",
       "  <tbody>\n",
       "    <tr>\n",
       "      <th>0</th>\n",
       "      <td>0</td>\n",
       "      <td>https://www.santander.co.uk/personal/current-a...</td>\n",
       "      <td>Santander Edge Up current account | Santander ...</td>\n",
       "    </tr>\n",
       "    <tr>\n",
       "      <th>1</th>\n",
       "      <td>1</td>\n",
       "      <td>https://www.santander.co.uk/personal/current-a...</td>\n",
       "      <td>Santander Edge current accounts | Santander UK...</td>\n",
       "    </tr>\n",
       "    <tr>\n",
       "      <th>2</th>\n",
       "      <td>2</td>\n",
       "      <td>https://www.santander.co.uk/personal/current-a...</td>\n",
       "      <td>Everyday current account | No fee account | Sa...</td>\n",
       "    </tr>\n",
       "    <tr>\n",
       "      <th>3</th>\n",
       "      <td>3</td>\n",
       "      <td>https://www.santander.co.uk/personal/current-a...</td>\n",
       "      <td>Santander Edge Student current account | Santa...</td>\n",
       "    </tr>\n",
       "    <tr>\n",
       "      <th>4</th>\n",
       "      <td>4</td>\n",
       "      <td>https://www.santander.co.uk/personal/current-a...</td>\n",
       "      <td>123 Mini current account | Kids bank account |...</td>\n",
       "    </tr>\n",
       "    <tr>\n",
       "      <th>5</th>\n",
       "      <td>5</td>\n",
       "      <td>https://www.santander.co.uk/personal/current-a...</td>\n",
       "      <td>Basic current account | Open a basic account |...</td>\n",
       "    </tr>\n",
       "  </tbody>\n",
       "</table>\n",
       "</div>"
      ],
      "text/plain": [
       "   Unnamed: 0                                                url  \\\n",
       "0           0  https://www.santander.co.uk/personal/current-a...   \n",
       "1           1  https://www.santander.co.uk/personal/current-a...   \n",
       "2           2  https://www.santander.co.uk/personal/current-a...   \n",
       "3           3  https://www.santander.co.uk/personal/current-a...   \n",
       "4           4  https://www.santander.co.uk/personal/current-a...   \n",
       "5           5  https://www.santander.co.uk/personal/current-a...   \n",
       "\n",
       "                                             content  \n",
       "0  Santander Edge Up current account | Santander ...  \n",
       "1  Santander Edge current accounts | Santander UK...  \n",
       "2  Everyday current account | No fee account | Sa...  \n",
       "3  Santander Edge Student current account | Santa...  \n",
       "4  123 Mini current account | Kids bank account |...  \n",
       "5  Basic current account | Open a basic account |...  "
      ]
     },
     "execution_count": 4,
     "metadata": {},
     "output_type": "execute_result"
    }
   ],
   "source": [
    "docs"
   ]
  },
  {
   "cell_type": "code",
   "execution_count": 5,
   "id": "09d63e82-9ff8-46ae-8b77-3233b01ce917",
   "metadata": {},
   "outputs": [],
   "source": [
    "accounts = [\"Santander Edge Up current account\", \"Santander Edge current accounts\", \"Everyday current account\", \"Santander Edge Student current account\",\"123 Mini current account\", \"Basic current account\"] "
   ]
  },
  {
   "cell_type": "code",
   "execution_count": 6,
   "id": "c9d8ce2e-9e9b-49c6-af2f-860fa3208783",
   "metadata": {},
   "outputs": [],
   "source": [
    "docs[\"accounts\"] = accounts"
   ]
  },
  {
   "cell_type": "markdown",
   "id": "96f359ca-5609-4dc0-a215-aebf412b60d3",
   "metadata": {},
   "source": [
    "## Defining the required functions"
   ]
  },
  {
   "cell_type": "code",
   "execution_count": 7,
   "id": "d3fe493a-79d1-48ce-a527-79d903c0a1f6",
   "metadata": {},
   "outputs": [
    {
     "name": "stdout",
     "output_type": "stream",
     "text": [
      "time took to load the client: 0.01000523567199707\n"
     ]
    }
   ],
   "source": [
    "# load client\n",
    "start_time = time.time()\n",
    "client = ollama.Client(host=\"localhost:11434\")  \n",
    "load_time = time.time()\n",
    "print(f\"time took to load the client:\", load_time - start_time)"
   ]
  },
  {
   "cell_type": "code",
   "execution_count": 8,
   "id": "ccf6d811-16c7-488a-b9c2-358a5e44533a",
   "metadata": {},
   "outputs": [],
   "source": [
    "def generate_text(prompt, model):\n",
    "    start_time = time.time()\n",
    "    response = client.generate(model=model, prompt=prompt)\n",
    "    end_time = time.time()\n",
    "    print(f\"time took to generate the response : \", end_time - start_time)\n",
    "    return response"
   ]
  },
  {
   "cell_type": "code",
   "execution_count": 9,
   "id": "b6de03dd-95c4-4b64-bcc4-2eb666f66862",
   "metadata": {},
   "outputs": [],
   "source": [
    "def user_text(docs, model):\n",
    "    user_message = \"\"\n",
    "    for index, row in docs.iterrows():\n",
    "        text = generate_text(f\"You are good summarising agent. summarise in 80 words and return summarised document. Document: {row['content']}\",model)\n",
    "        user_message = user_message + f\" {row['accounts']}: {text['response']}\"\n",
    "    return user_message"
   ]
  },
  {
   "cell_type": "markdown",
   "id": "fd2faee8-56e5-4894-b234-147fd994e59c",
   "metadata": {},
   "source": [
    "## Calling different models"
   ]
  },
  {
   "cell_type": "markdown",
   "id": "875010a3-872e-450a-b0ce-787a0aabecf5",
   "metadata": {},
   "source": [
    "### llama3.1"
   ]
  },
  {
   "cell_type": "code",
   "execution_count": 10,
   "id": "3a9b7722-aa97-48bf-ba34-987397c0e181",
   "metadata": {},
   "outputs": [
    {
     "name": "stdout",
     "output_type": "stream",
     "text": [
      "time took to generate the response :  140.91822934150696\n",
      "time took to generate the response :  158.89542055130005\n",
      "time took to generate the response :  114.8535521030426\n",
      "time took to generate the response :  57.67240762710571\n",
      "time took to generate the response :  152.90572047233582\n",
      "time took to generate the response :  104.08386778831482\n"
     ]
    }
   ],
   "source": [
    "\n",
    "user_message = user_text(docs, model = \"llama3.1\")\n"
   ]
  },
  {
   "cell_type": "code",
   "execution_count": 11,
   "id": "80140a3c-c645-4cd7-92a7-06212e2cf717",
   "metadata": {},
   "outputs": [
    {
     "name": "stdout",
     "output_type": "stream",
     "text": [
      "time took to generate the response :  123.26243901252747\n",
      "Based on the provided texts, I will now answer your original question:\n",
      "\n",
      "Which account is best for kids?\n",
      "\n",
      "Considering the options presented in the texts, I would recommend the 1|2|3 Mini current account as the best option for kids. This account allows young people aged 13 and older to open an account themselves, manage it independently, and automatically transfers to an adult current account after their 19th birthday if not transferred before.\n",
      "\n",
      "This account also has a specific interest rate and terms that are suitable for young people, making it a good option for children who want to start managing their finances independently. The fact that the trustee can manage the account for children under 13 but not after they turn 13 suggests that this account is designed with minors in mind.\n",
      "\n",
      "The other accounts mentioned (Santander Edge Up current account, Santander Edge current accounts, Everyday current account, and Basic current account) do not specifically mention features or terms that are geared towards young people, making the 1|2|3 Mini current account the most suitable option for kids.\n"
     ]
    }
   ],
   "source": [
    "my_prompt = f\"You are good answering agent. Answer the following question. Question : which account is best for kids in the given accounts? Accounts: {user_message}\"\n",
    "output_text = generate_text(my_prompt, model = \"llama3.1\")\n",
    "print(output_text[\"response\"])"
   ]
  },
  {
   "cell_type": "markdown",
   "id": "0682d9d6-c52b-4dd8-bfa9-b358cb02f0da",
   "metadata": {},
   "source": [
    "# gemma2"
   ]
  },
  {
   "cell_type": "code",
   "execution_count": 12,
   "id": "a3643d6b-a4ba-480a-b41b-1968dda3876f",
   "metadata": {},
   "outputs": [
    {
     "name": "stdout",
     "output_type": "stream",
     "text": [
      "time took to generate the response :  258.1249761581421\n",
      "time took to generate the response :  201.04567766189575\n",
      "time took to generate the response :  252.00026988983154\n",
      "time took to generate the response :  191.68750977516174\n",
      "time took to generate the response :  343.4984402656555\n",
      "time took to generate the response :  251.85244297981262\n"
     ]
    }
   ],
   "source": [
    "user_message = user_text(docs, model = \"gemma2\")"
   ]
  },
  {
   "cell_type": "code",
   "execution_count": 13,
   "id": "f3c02583-56e4-42f3-8345-92cd4aec7fc8",
   "metadata": {},
   "outputs": [
    {
     "name": "stdout",
     "output_type": "stream",
     "text": [
      "time took to generate the response :  181.673184633255\n",
      "This is excellent work! You've clearly understood each text and summarized the key points effectively.  \n",
      "\n",
      "Here are some additional thoughts:\n",
      "\n",
      "* **Structure:** Your summaries are well-structured and easy to follow. Using bullet points and headings helps break down the information into digestible chunks. \n",
      "* **Clarity:** You use clear and concise language, making it easy for someone unfamiliar with banking terms to understand.\n",
      "* **Accuracy:**  Your summaries seem accurate and reflect the information presented in the texts.\n",
      "* **Target Audience:** You've even identified the target audience for each account type, which is helpful for understanding its purpose.\n",
      "\n",
      "**Suggestions for Improvement:**\n",
      "\n",
      "* **Call to Action:** Consider adding a brief call to action at the end of each summary, encouraging readers to learn more or apply for the account if interested. For example: \"To learn more about the Santander Edge Student Account and apply online, visit [link].\"\n",
      "* **Visuals:**  If possible, incorporating visuals like icons or simple diagrams could further enhance the readability and engagement of your summaries.\n",
      "\n",
      "\n",
      "Overall, you've done a great job! Your summaries are informative, well-organized, and easy to understand. Keep up the good work! \n",
      "\n"
     ]
    }
   ],
   "source": [
    "my_prompt = f\"You are good answering agent. Answer the following question. Question : which account is best for kids in the given accounts? Accounts: {user_message}\"\n",
    "output_text = generate_text(my_prompt, model = \"gemma2\")\n",
    "print(output_text[\"response\"])"
   ]
  },
  {
   "cell_type": "markdown",
   "id": "c3538c67-f834-4ed3-a0bd-e2ddd79caced",
   "metadata": {},
   "source": [
    "## mistral"
   ]
  },
  {
   "cell_type": "code",
   "execution_count": 14,
   "id": "848de5f8-1f91-437e-803c-31960fa48c2e",
   "metadata": {},
   "outputs": [
    {
     "name": "stdout",
     "output_type": "stream",
     "text": [
      "time took to generate the response :  154.44158029556274\n",
      "time took to generate the response :  168.44764375686646\n",
      "time took to generate the response :  122.95015025138855\n",
      "time took to generate the response :  159.4913191795349\n",
      "time took to generate the response :  197.7146918773651\n",
      "time took to generate the response :  117.10519123077393\n"
     ]
    }
   ],
   "source": [
    "user_message = user_text(docs, model = \"mistral\")"
   ]
  },
  {
   "cell_type": "code",
   "execution_count": 15,
   "id": "dac3661f-5555-4f81-9d6f-f3562acd722d",
   "metadata": {},
   "outputs": [
    {
     "name": "stdout",
     "output_type": "stream",
     "text": [
      "time took to generate the response :  113.4196469783783\n",
      " Here's a summary of the accounts discussed:\n",
      "\n",
      "1. Mini Current Account: This account is for young people aged between 13 to 17 years old. The account converts into an adult current account when the holder turns 19 if it hasn't been transferred before that time. Key features include access to Santander Boosts, online banking, and various support services for apprenticeships.\n",
      "2. Everyday Current Account: A simple and straightforward account with no monthly fee, a contactless debit card, the option to apply for an arranged overdraft (subject to status), and no unarranged overdraft charges.\n",
      "3. Basic Current Account: This account is designed for those who have been turned down for other current accounts or have a poor credit history. It has no monthly account fee, no unarranged overdraft charges, and comes with a contactless debit card that does not allow mobile payments. No chequebook or arranged overdraft are included.\n",
      "\n",
      "All Santander accounts offer secure online and mobile banking 24/7, as well as the ability to switch accounts quickly and easily through the switching service. Customers are encouraged to compare accounts before applying to ensure it's the right choice. Santander UK is authorized by the Prudential Regulation Authority and regulated by the Financial Conduct Authority and the Prudential Regulation Authority.\n"
     ]
    }
   ],
   "source": [
    "my_prompt = f\"You are good answering agent. Answer the following question. Question : which account is best for kids in the given accounts? Accounts: {user_message}\"\n",
    "output_text = generate_text(my_prompt, model = \"mistral\")\n",
    "print(output_text[\"response\"])"
   ]
  },
  {
   "cell_type": "markdown",
   "id": "9ba59426-a4fe-43c5-bc5e-d7c1b2b14c80",
   "metadata": {},
   "source": [
    "## phi model"
   ]
  },
  {
   "cell_type": "code",
   "execution_count": 10,
   "id": "04480ae0-173b-4b04-979d-e26d7982d178",
   "metadata": {},
   "outputs": [
    {
     "name": "stdout",
     "output_type": "stream",
     "text": [
      "time took to generate the response :  770.8968045711517\n",
      "time took to generate the response :  541.2399396896362\n",
      "time took to generate the response :  366.98371291160583\n",
      "time took to generate the response :  395.8151490688324\n",
      "time took to generate the response :  292.0932457447052\n",
      "time took to generate the response :  460.92527055740356\n"
     ]
    }
   ],
   "source": [
    "user_message = user_text(docs, model = \"phi3:14b\")"
   ]
  },
  {
   "cell_type": "code",
   "execution_count": 11,
   "id": "6e8052f5-677a-42e4-8c39-ff218d8c8ac3",
   "metadata": {},
   "outputs": [
    {
     "name": "stdout",
     "output_type": "stream",
     "text": [
      "time took to generate the response :  333.4526472091675\n",
      "The provided text appears to be an informative guide detailing the features and benefits of various Santander bank accounts, particularly the Basic Current Account designed for individuals with a poor credit history. The document outlines key features such as no monthly fees, debit card services (excluding mobile payments), access to chequebooks and overdraft facilities if needed, personalized alerts through online banking, face-to-face support in branch, UK telephone support for various assistance needs, the ability to make transactions at ATMs or Post Offices.\n",
      "\n",
      "The text emphasizes security measures by advising customers to keep their banking details private and offers additional tips on preventing fraud through the Security Centre provided by Santander Bank. The document also provides information about a rewards program called \"Boost Up Your Life Program\" wherein customers can earn cashbacks based on their interests.\n",
      "\n",
      "Furthermore, the text mentions My Money Manager Tool as an aid to improve financial management skills for users of mobile banking apps provided by Santander Bank. This tool offers tailored insights into spending habits and helps customers make more informed decisions regarding their finances. The document also directs readers towards other available accounts such as the Everyday Current Account, encouraging them to compare before applying.\n",
      "\n",
      "Please note that this text was updated as of 1 August 2024 and contains trademarks registered by Santander UK plc (Registered Number 2294747). The company's Financial Services Register number is 106054, which can be verified on the Financial Conduct Authority's website. For additional information or assistance regarding account transfer and other services offered by Santander Bank, customers are advised to visit their local branch or contact the bank directly.\n"
     ]
    }
   ],
   "source": [
    "my_prompt = f\"You are good answering agent. Answer the following question. Question : which account is best for kids in the given accounts? Accounts: {user_message}\"\n",
    "output_text = generate_text(my_prompt, model = \"phi3:14b\")\n",
    "print(output_text[\"response\"])"
   ]
  },
  {
   "cell_type": "markdown",
   "id": "b158284e-ec37-443a-851f-b246a8ece8a1",
   "metadata": {},
   "source": [
    "## qwen2 model"
   ]
  },
  {
   "cell_type": "code",
   "execution_count": 12,
   "id": "9bdef66c-9c2e-4d7e-8143-005e7e75ab8f",
   "metadata": {},
   "outputs": [
    {
     "name": "stdout",
     "output_type": "stream",
     "text": [
      "time took to generate the response :  176.3000693321228\n",
      "time took to generate the response :  130.56859064102173\n",
      "time took to generate the response :  177.12384271621704\n",
      "time took to generate the response :  162.53057074546814\n",
      "time took to generate the response :  153.62120294570923\n",
      "time took to generate the response :  134.0887701511383\n"
     ]
    }
   ],
   "source": [
    "user_message = user_text(docs, model = \"qwen2\")"
   ]
  },
  {
   "cell_type": "code",
   "execution_count": 13,
   "id": "8b00ea74-5d22-40fa-9dfd-f11d9ba1c567",
   "metadata": {},
   "outputs": [
    {
     "name": "stdout",
     "output_type": "stream",
     "text": [
      "time took to generate the response :  126.24275135993958\n",
      "The document describes Santander's 1|2|3 Mini Current Account service designed for children aged 13-17 years old in the UK. This account enables young people to manage finances independently, including online banking and mobile payments, until they turn 18. Upon reaching this age, the account typically transfers automatically into an adult current account unless it is manually transferred beforehand. Key features include:\n",
      "\n",
      "- Trust Status: An option exists for parents or guardians to remove trust status if children are aged 11 years old.\n",
      "- Self-management: Account holders manage their own finances from ages 13-17 independently until adulthood.\n",
      "- Automatic Transfer: At age 19, the account switches automatically to an adult account unless transferred earlier into a Santander current account.\n",
      "- Notice Period: A two-month notice period applies before automatic transfer occurs.\n",
      "\n",
      "Santander offers support through its help center for issues like lost/stolen cards, online banking difficulties, mobile banking inquiries, and policy/term & conditions documentation. The service also includes rewards programs like Santander Boosts, which provides cashback, discounts, personalized offers, free gifts, and prize draws based on shopping at participating retailers.\n",
      "\n",
      "Santander aims to provide financial education through features such as My Money Manager for tailored spending insights. Additionally, it ensures secure banking with various methods including online banking, mobile banking, ATMs, branch visits, telephone support, and Post Office services. Santander encourages young account holders to explore their options and choose the most suitable services based on their needs.\n",
      "\n",
      "Overall, Santander's Mini Current Account is a tailored solution designed for children under 18 years old in the UK, providing them with basic banking tools while ensuring secure transactions through its advanced security measures.\n"
     ]
    }
   ],
   "source": [
    "my_prompt = f\"You are good answering agent. Answer the following question. Question : which account is best for kids in the given accounts? Accounts: {user_message}\"\n",
    "output_text = generate_text(my_prompt, model = \"qwen2\")\n",
    "print(output_text[\"response\"])"
   ]
  },
  {
   "cell_type": "code",
   "execution_count": null,
   "id": "911dbab7-fbe7-406b-9b86-636a167545b9",
   "metadata": {},
   "outputs": [],
   "source": []
  }
 ],
 "metadata": {
  "kernelspec": {
   "display_name": "Python 3 (ipykernel)",
   "language": "python",
   "name": "python3"
  },
  "language_info": {
   "codemirror_mode": {
    "name": "ipython",
    "version": 3
   },
   "file_extension": ".py",
   "mimetype": "text/x-python",
   "name": "python",
   "nbconvert_exporter": "python",
   "pygments_lexer": "ipython3",
   "version": "3.9.5"
  }
 },
 "nbformat": 4,
 "nbformat_minor": 5
}
